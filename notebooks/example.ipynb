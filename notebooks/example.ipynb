{
 "metadata": {
  "language": "Julia",
  "name": "",
  "signature": "sha256:f9c93c91528c3b0709a868990cc7b1e77bb4488dde8ab226ebfcade443e83fd8"
 },
 "nbformat": 3,
 "nbformat_minor": 0,
 "worksheets": [
  {
   "cells": [
    {
     "cell_type": "code",
     "collapsed": false,
     "input": [
      "# function to calculate the volume of a sphere\n",
      "function sphere_vol(r)\n",
      "    # julia allows Unicode names (in UTF-8 encoding)\n",
      "    # so either \"pi\" or the symbol \u03c0 can be used\n",
      "    return 4/3*pi*r^3\n",
      "end"
     ],
     "language": "python",
     "metadata": {},
     "outputs": [
      {
       "metadata": {},
       "output_type": "pyout",
       "prompt_number": 1,
       "text": [
        "sphere_vol (generic function with 1 method)"
       ]
      }
     ],
     "prompt_number": 1
    },
    {
     "cell_type": "code",
     "collapsed": false,
     "input": [
      "# functions can also be defined more succinctly\n",
      "quadratic(a, sqr_term, b) = (-b + sqr_term) / 2a"
     ],
     "language": "python",
     "metadata": {},
     "outputs": [
      {
       "metadata": {},
       "output_type": "pyout",
       "prompt_number": 2,
       "text": [
        "quadratic (generic function with 1 method)"
       ]
      }
     ],
     "prompt_number": 2
    },
    {
     "cell_type": "code",
     "collapsed": false,
     "input": [
      "# calculates x for 0 = a*x^2+b*x+c, arguments types can be defined in function definitions\n",
      "function quadratic2(a::Float64, b::Float64, c::Float64)\n",
      "    # unlike other languages 2a is equivalent to 2*a\n",
      "    # a^2 is used instead of a**2 or pow(a,2)\n",
      "    sqr_term = sqrt(b^2-4a*c)\n",
      "    r1 = quadratic(a, sqr_term, b)\n",
      "    r2 = quadratic(a, -sqr_term, b)\n",
      "    # multiple values can be returned from a function using tuples\n",
      "    # if the return keyword is omitted, the last term is returned\n",
      "    r1, r2\n",
      "end"
     ],
     "language": "python",
     "metadata": {},
     "outputs": [
      {
       "metadata": {},
       "output_type": "pyout",
       "prompt_number": 3,
       "text": [
        "quadratic2 (generic function with 1 method)"
       ]
      }
     ],
     "prompt_number": 3
    },
    {
     "cell_type": "code",
     "collapsed": false,
     "input": [
      "vol = sphere_vol(3)\n",
      "# @printf allows number formatting but does not automatically append the \\n to statements, see below\n",
      "@printf \"volume = %0.3f\\n\" vol \n",
      "#> volume = 113.097"
     ],
     "language": "python",
     "metadata": {},
     "outputs": [
      {
       "output_type": "stream",
       "stream": "stdout",
       "text": [
        "volume = 113"
       ]
      },
      {
       "output_type": "stream",
       "stream": "stdout",
       "text": [
        ".097\n"
       ]
      }
     ],
     "prompt_number": 4
    },
    {
     "cell_type": "code",
     "collapsed": false,
     "input": [
      "quad1, quad2 = quadratic2(2.0, -2.0, -12.0)\n",
      "println(\"result 1: \", quad1)\n",
      "#> result 1: 3.0\n",
      "println(\"result 2: \", quad2)\n",
      "#> result 2: -2.0"
     ],
     "language": "python",
     "metadata": {},
     "outputs": [
      {
       "output_type": "stream",
       "stream": "stdout",
       "text": [
        "result 1: 3.0\n",
        "result 2: -2.0\n"
       ]
      }
     ],
     "prompt_number": 5
    }
   ],
   "metadata": {}
  }
 ]
}